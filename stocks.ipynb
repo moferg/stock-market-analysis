{
 "cells": [
  {
   "cell_type": "markdown",
   "source": [
    "# Stock Market Analysis\r\n",
    "## Marshall Ferguson 9/2021"
   ],
   "metadata": {}
  },
  {
   "cell_type": "code",
   "execution_count": 1,
   "source": [
    "# Imports\r\n",
    "\r\n",
    "import os\r\n",
    "import csv\r\n",
    "import numpy as np\r\n",
    "import pandas as pd"
   ],
   "outputs": [],
   "metadata": {}
  },
  {
   "cell_type": "code",
   "execution_count": 2,
   "source": [
    "# Read in data\r\n",
    "\r\n",
    "df = pd.read_csv('data/sp500/AAPL.csv')\r\n",
    "\r\n",
    "df.head()"
   ],
   "outputs": [
    {
     "output_type": "execute_result",
     "data": {
      "text/html": [
       "<div>\n",
       "<style scoped>\n",
       "    .dataframe tbody tr th:only-of-type {\n",
       "        vertical-align: middle;\n",
       "    }\n",
       "\n",
       "    .dataframe tbody tr th {\n",
       "        vertical-align: top;\n",
       "    }\n",
       "\n",
       "    .dataframe thead th {\n",
       "        text-align: right;\n",
       "    }\n",
       "</style>\n",
       "<table border=\"1\" class=\"dataframe\">\n",
       "  <thead>\n",
       "    <tr style=\"text-align: right;\">\n",
       "      <th></th>\n",
       "      <th>Date</th>\n",
       "      <th>Low</th>\n",
       "      <th>Open</th>\n",
       "      <th>Volume</th>\n",
       "      <th>High</th>\n",
       "      <th>Close</th>\n",
       "      <th>Adjusted Close</th>\n",
       "    </tr>\n",
       "  </thead>\n",
       "  <tbody>\n",
       "    <tr>\n",
       "      <th>0</th>\n",
       "      <td>12-12-1980</td>\n",
       "      <td>0.128348</td>\n",
       "      <td>0.128348</td>\n",
       "      <td>469033600</td>\n",
       "      <td>0.128906</td>\n",
       "      <td>0.128348</td>\n",
       "      <td>0.100600</td>\n",
       "    </tr>\n",
       "    <tr>\n",
       "      <th>1</th>\n",
       "      <td>15-12-1980</td>\n",
       "      <td>0.121652</td>\n",
       "      <td>0.122210</td>\n",
       "      <td>175884800</td>\n",
       "      <td>0.122210</td>\n",
       "      <td>0.121652</td>\n",
       "      <td>0.095352</td>\n",
       "    </tr>\n",
       "    <tr>\n",
       "      <th>2</th>\n",
       "      <td>16-12-1980</td>\n",
       "      <td>0.112723</td>\n",
       "      <td>0.113281</td>\n",
       "      <td>105728000</td>\n",
       "      <td>0.113281</td>\n",
       "      <td>0.112723</td>\n",
       "      <td>0.088353</td>\n",
       "    </tr>\n",
       "    <tr>\n",
       "      <th>3</th>\n",
       "      <td>17-12-1980</td>\n",
       "      <td>0.115513</td>\n",
       "      <td>0.115513</td>\n",
       "      <td>86441600</td>\n",
       "      <td>0.116071</td>\n",
       "      <td>0.115513</td>\n",
       "      <td>0.090540</td>\n",
       "    </tr>\n",
       "    <tr>\n",
       "      <th>4</th>\n",
       "      <td>18-12-1980</td>\n",
       "      <td>0.118862</td>\n",
       "      <td>0.118862</td>\n",
       "      <td>73449600</td>\n",
       "      <td>0.119420</td>\n",
       "      <td>0.118862</td>\n",
       "      <td>0.093165</td>\n",
       "    </tr>\n",
       "  </tbody>\n",
       "</table>\n",
       "</div>"
      ],
      "text/plain": [
       "         Date       Low      Open     Volume      High     Close  \\\n",
       "0  12-12-1980  0.128348  0.128348  469033600  0.128906  0.128348   \n",
       "1  15-12-1980  0.121652  0.122210  175884800  0.122210  0.121652   \n",
       "2  16-12-1980  0.112723  0.113281  105728000  0.113281  0.112723   \n",
       "3  17-12-1980  0.115513  0.115513   86441600  0.116071  0.115513   \n",
       "4  18-12-1980  0.118862  0.118862   73449600  0.119420  0.118862   \n",
       "\n",
       "   Adjusted Close  \n",
       "0        0.100600  \n",
       "1        0.095352  \n",
       "2        0.088353  \n",
       "3        0.090540  \n",
       "4        0.093165  "
      ]
     },
     "metadata": {},
     "execution_count": 2
    }
   ],
   "metadata": {}
  },
  {
   "cell_type": "markdown",
   "source": [
    "As an aside, the dates in the Date Series are in DD-MM-YYY format"
   ],
   "metadata": {}
  },
  {
   "cell_type": "markdown",
   "source": [
    "This data is set up differently than I would like. It is organized into folders based on whether the company is part of NASDAQ, NYSE, or S&P500. Within those folders are seperate CSV files for each company. I would like to combine these seperate files into one master dataset. My thought process is that I can turn each CSV into a dict, and then turn it into one giant df from combining each dict."
   ],
   "metadata": {}
  },
  {
   "cell_type": "code",
   "execution_count": 3,
   "source": [
    "# Trial run converting AAPL csv to a list of dicts\r\n",
    "\r\n",
    "AAPL = []\r\n",
    "\r\n",
    "with open('data/sp500/AAPL.csv', newline='') as csvfile:\r\n",
    "    reader = csv.DictReader(csvfile)\r\n",
    "    for row in reader:\r\n",
    "        row['Ticker'] = 'AAPL'\r\n",
    "        AAPL.append(row)\r\n",
    "\r\n",
    "AAPL[0]"
   ],
   "outputs": [
    {
     "output_type": "execute_result",
     "data": {
      "text/plain": [
       "{'Date': '12-12-1980',\n",
       " 'Low': '0.1283479928970337',\n",
       " 'Open': '0.1283479928970337',\n",
       " 'Volume': '469033600',\n",
       " 'High': '0.1289059966802597',\n",
       " 'Close': '0.1283479928970337',\n",
       " 'Adjusted Close': '0.10060006380081177',\n",
       " 'Ticker': 'AAPL'}"
      ]
     },
     "metadata": {},
     "execution_count": 3
    }
   ],
   "metadata": {}
  },
  {
   "cell_type": "code",
   "execution_count": 4,
   "source": [
    "# Convert all rows in all files in sp500 directory to dicts\r\n",
    "# and append said dicts to one list, after adding Ticker to dict\r\n",
    "\r\n",
    "sp500 = []\r\n",
    "\r\n",
    "for file in os.listdir('data/sp500'):\r\n",
    "    with open(f'data/sp500/{file}', newline='') as csvfile:\r\n",
    "        reader = csv.DictReader(csvfile)\r\n",
    "        for row in reader:\r\n",
    "            file_name = os.path.splitext(file)\r\n",
    "            row['Ticker'] = file_name[0]\r\n",
    "            sp500.append(row)"
   ],
   "outputs": [],
   "metadata": {}
  },
  {
   "cell_type": "code",
   "execution_count": 5,
   "source": [
    "sp500[0]"
   ],
   "outputs": [
    {
     "output_type": "execute_result",
     "data": {
      "text/plain": [
       "{'Date': '18-11-1999',\n",
       " 'Low': '28.612302780151367',\n",
       " 'Open': '32.54649353027344',\n",
       " 'Volume': '62546380',\n",
       " 'High': '35.765380859375',\n",
       " 'Close': '31.473533630371094',\n",
       " 'Adjusted Close': '27.135984420776367',\n",
       " 'Ticker': 'A'}"
      ]
     },
     "metadata": {},
     "execution_count": 5
    }
   ],
   "metadata": {}
  },
  {
   "cell_type": "code",
   "execution_count": 6,
   "source": [
    "sp500[-1]"
   ],
   "outputs": [
    {
     "output_type": "execute_result",
     "data": {
      "text/plain": [
       "{'Date': '30-08-2021',\n",
       " 'Low': '204.0050048828125',\n",
       " 'Open': '203.82000732421875',\n",
       " 'Volume': '288506.0',\n",
       " 'High': '206.97999572753906',\n",
       " 'Close': '205.75',\n",
       " 'Adjusted Close': '205.75',\n",
       " 'Ticker': 'ZTS'}"
      ]
     },
     "metadata": {},
     "execution_count": 6
    }
   ],
   "metadata": {}
  },
  {
   "cell_type": "code",
   "execution_count": 7,
   "source": [
    "# Convert list of sp500 dicts to df\r\n",
    "\r\n",
    "sp500_df = pd.DataFrame(sp500)"
   ],
   "outputs": [],
   "metadata": {}
  },
  {
   "cell_type": "code",
   "execution_count": 8,
   "source": [
    "sp500_df.head()"
   ],
   "outputs": [
    {
     "output_type": "execute_result",
     "data": {
      "text/html": [
       "<div>\n",
       "<style scoped>\n",
       "    .dataframe tbody tr th:only-of-type {\n",
       "        vertical-align: middle;\n",
       "    }\n",
       "\n",
       "    .dataframe tbody tr th {\n",
       "        vertical-align: top;\n",
       "    }\n",
       "\n",
       "    .dataframe thead th {\n",
       "        text-align: right;\n",
       "    }\n",
       "</style>\n",
       "<table border=\"1\" class=\"dataframe\">\n",
       "  <thead>\n",
       "    <tr style=\"text-align: right;\">\n",
       "      <th></th>\n",
       "      <th>Date</th>\n",
       "      <th>Low</th>\n",
       "      <th>Open</th>\n",
       "      <th>Volume</th>\n",
       "      <th>High</th>\n",
       "      <th>Close</th>\n",
       "      <th>Adjusted Close</th>\n",
       "      <th>Ticker</th>\n",
       "    </tr>\n",
       "  </thead>\n",
       "  <tbody>\n",
       "    <tr>\n",
       "      <th>0</th>\n",
       "      <td>18-11-1999</td>\n",
       "      <td>28.612302780151367</td>\n",
       "      <td>32.54649353027344</td>\n",
       "      <td>62546380</td>\n",
       "      <td>35.765380859375</td>\n",
       "      <td>31.473533630371094</td>\n",
       "      <td>27.135984420776367</td>\n",
       "      <td>A</td>\n",
       "    </tr>\n",
       "    <tr>\n",
       "      <th>1</th>\n",
       "      <td>19-11-1999</td>\n",
       "      <td>28.47818374633789</td>\n",
       "      <td>30.713518142700195</td>\n",
       "      <td>15234146</td>\n",
       "      <td>30.75822639465332</td>\n",
       "      <td>28.880544662475586</td>\n",
       "      <td>24.900341033935547</td>\n",
       "      <td>A</td>\n",
       "    </tr>\n",
       "    <tr>\n",
       "      <th>2</th>\n",
       "      <td>22-11-1999</td>\n",
       "      <td>28.65700912475586</td>\n",
       "      <td>29.551143646240234</td>\n",
       "      <td>6577870</td>\n",
       "      <td>31.473533630371094</td>\n",
       "      <td>31.473533630371094</td>\n",
       "      <td>27.135984420776367</td>\n",
       "      <td>A</td>\n",
       "    </tr>\n",
       "    <tr>\n",
       "      <th>3</th>\n",
       "      <td>23-11-1999</td>\n",
       "      <td>28.612302780151367</td>\n",
       "      <td>30.400571823120117</td>\n",
       "      <td>5975611</td>\n",
       "      <td>31.205293655395508</td>\n",
       "      <td>28.612302780151367</td>\n",
       "      <td>24.669065475463867</td>\n",
       "      <td>A</td>\n",
       "    </tr>\n",
       "    <tr>\n",
       "      <th>4</th>\n",
       "      <td>24-11-1999</td>\n",
       "      <td>28.612302780151367</td>\n",
       "      <td>28.701717376708984</td>\n",
       "      <td>4843231</td>\n",
       "      <td>29.998212814331055</td>\n",
       "      <td>29.372318267822266</td>\n",
       "      <td>25.324344635009766</td>\n",
       "      <td>A</td>\n",
       "    </tr>\n",
       "  </tbody>\n",
       "</table>\n",
       "</div>"
      ],
      "text/plain": [
       "         Date                 Low                Open    Volume  \\\n",
       "0  18-11-1999  28.612302780151367   32.54649353027344  62546380   \n",
       "1  19-11-1999   28.47818374633789  30.713518142700195  15234146   \n",
       "2  22-11-1999   28.65700912475586  29.551143646240234   6577870   \n",
       "3  23-11-1999  28.612302780151367  30.400571823120117   5975611   \n",
       "4  24-11-1999  28.612302780151367  28.701717376708984   4843231   \n",
       "\n",
       "                 High               Close      Adjusted Close Ticker  \n",
       "0     35.765380859375  31.473533630371094  27.135984420776367      A  \n",
       "1   30.75822639465332  28.880544662475586  24.900341033935547      A  \n",
       "2  31.473533630371094  31.473533630371094  27.135984420776367      A  \n",
       "3  31.205293655395508  28.612302780151367  24.669065475463867      A  \n",
       "4  29.998212814331055  29.372318267822266  25.324344635009766      A  "
      ]
     },
     "metadata": {},
     "execution_count": 8
    }
   ],
   "metadata": {}
  },
  {
   "cell_type": "code",
   "execution_count": 9,
   "source": [
    "sp500_df.tail()"
   ],
   "outputs": [
    {
     "output_type": "execute_result",
     "data": {
      "text/html": [
       "<div>\n",
       "<style scoped>\n",
       "    .dataframe tbody tr th:only-of-type {\n",
       "        vertical-align: middle;\n",
       "    }\n",
       "\n",
       "    .dataframe tbody tr th {\n",
       "        vertical-align: top;\n",
       "    }\n",
       "\n",
       "    .dataframe thead th {\n",
       "        text-align: right;\n",
       "    }\n",
       "</style>\n",
       "<table border=\"1\" class=\"dataframe\">\n",
       "  <thead>\n",
       "    <tr style=\"text-align: right;\">\n",
       "      <th></th>\n",
       "      <th>Date</th>\n",
       "      <th>Low</th>\n",
       "      <th>Open</th>\n",
       "      <th>Volume</th>\n",
       "      <th>High</th>\n",
       "      <th>Close</th>\n",
       "      <th>Adjusted Close</th>\n",
       "      <th>Ticker</th>\n",
       "    </tr>\n",
       "  </thead>\n",
       "  <tbody>\n",
       "    <tr>\n",
       "      <th>3221722</th>\n",
       "      <td>24-08-2021</td>\n",
       "      <td>204.49000549316406</td>\n",
       "      <td>206.08999633789062</td>\n",
       "      <td>97870000.0</td>\n",
       "      <td>206.9600067138672</td>\n",
       "      <td>204.99000549316406</td>\n",
       "      <td>204.99000549316406</td>\n",
       "      <td>ZTS</td>\n",
       "    </tr>\n",
       "    <tr>\n",
       "      <th>3221723</th>\n",
       "      <td>25-08-2021</td>\n",
       "      <td>202.97999572753906</td>\n",
       "      <td>204.38999938964844</td>\n",
       "      <td>78070000.0</td>\n",
       "      <td>205.0800018310547</td>\n",
       "      <td>204.42999267578125</td>\n",
       "      <td>204.42999267578125</td>\n",
       "      <td>ZTS</td>\n",
       "    </tr>\n",
       "    <tr>\n",
       "      <th>3221724</th>\n",
       "      <td>26-08-2021</td>\n",
       "      <td>203.36000061035156</td>\n",
       "      <td>204.8000030517578</td>\n",
       "      <td>95760000.0</td>\n",
       "      <td>205.49000549316406</td>\n",
       "      <td>204.02000427246094</td>\n",
       "      <td>204.02000427246094</td>\n",
       "      <td>ZTS</td>\n",
       "    </tr>\n",
       "    <tr>\n",
       "      <th>3221725</th>\n",
       "      <td>27-08-2021</td>\n",
       "      <td>203.22999572753906</td>\n",
       "      <td>204.67999267578125</td>\n",
       "      <td>85530000.0</td>\n",
       "      <td>206.19000244140625</td>\n",
       "      <td>203.82000732421875</td>\n",
       "      <td>203.82000732421875</td>\n",
       "      <td>ZTS</td>\n",
       "    </tr>\n",
       "    <tr>\n",
       "      <th>3221726</th>\n",
       "      <td>30-08-2021</td>\n",
       "      <td>204.0050048828125</td>\n",
       "      <td>203.82000732421875</td>\n",
       "      <td>288506.0</td>\n",
       "      <td>206.97999572753906</td>\n",
       "      <td>205.75</td>\n",
       "      <td>205.75</td>\n",
       "      <td>ZTS</td>\n",
       "    </tr>\n",
       "  </tbody>\n",
       "</table>\n",
       "</div>"
      ],
      "text/plain": [
       "               Date                 Low                Open      Volume  \\\n",
       "3221722  24-08-2021  204.49000549316406  206.08999633789062  97870000.0   \n",
       "3221723  25-08-2021  202.97999572753906  204.38999938964844  78070000.0   \n",
       "3221724  26-08-2021  203.36000061035156   204.8000030517578  95760000.0   \n",
       "3221725  27-08-2021  203.22999572753906  204.67999267578125  85530000.0   \n",
       "3221726  30-08-2021   204.0050048828125  203.82000732421875    288506.0   \n",
       "\n",
       "                       High               Close      Adjusted Close Ticker  \n",
       "3221722   206.9600067138672  204.99000549316406  204.99000549316406    ZTS  \n",
       "3221723   205.0800018310547  204.42999267578125  204.42999267578125    ZTS  \n",
       "3221724  205.49000549316406  204.02000427246094  204.02000427246094    ZTS  \n",
       "3221725  206.19000244140625  203.82000732421875  203.82000732421875    ZTS  \n",
       "3221726  206.97999572753906              205.75              205.75    ZTS  "
      ]
     },
     "metadata": {},
     "execution_count": 9
    }
   ],
   "metadata": {}
  },
  {
   "cell_type": "markdown",
   "source": [
    "Now that we have one dataset for all the S&P500 data, let's do some data cleaning..."
   ],
   "metadata": {}
  },
  {
   "cell_type": "code",
   "execution_count": 10,
   "source": [
    "# What types of data are in the dataframe?\r\n",
    "\r\n",
    "sp500_df.dtypes"
   ],
   "outputs": [
    {
     "output_type": "execute_result",
     "data": {
      "text/plain": [
       "Date              object\n",
       "Low               object\n",
       "Open              object\n",
       "Volume            object\n",
       "High              object\n",
       "Close             object\n",
       "Adjusted Close    object\n",
       "Ticker            object\n",
       "dtype: object"
      ]
     },
     "metadata": {},
     "execution_count": 10
    }
   ],
   "metadata": {}
  },
  {
   "cell_type": "markdown",
   "source": [
    "We need to convert the Series' that represent stock prices into numeric values"
   ],
   "metadata": {}
  },
  {
   "cell_type": "code",
   "execution_count": 11,
   "source": [
    "numb_convert = ['Low', 'Open', 'Volume', 'High', 'Close', 'Adjusted Close']\r\n",
    "\r\n",
    "for series in numb_convert:\r\n",
    "    sp500_df[series] = pd.to_numeric(sp500_df[series])"
   ],
   "outputs": [],
   "metadata": {}
  },
  {
   "cell_type": "code",
   "execution_count": 12,
   "source": [
    "sp500_df.dtypes"
   ],
   "outputs": [
    {
     "output_type": "execute_result",
     "data": {
      "text/plain": [
       "Date               object\n",
       "Low               float64\n",
       "Open              float64\n",
       "Volume            float64\n",
       "High              float64\n",
       "Close             float64\n",
       "Adjusted Close    float64\n",
       "Ticker             object\n",
       "dtype: object"
      ]
     },
     "metadata": {},
     "execution_count": 12
    }
   ],
   "metadata": {}
  },
  {
   "cell_type": "markdown",
   "source": [
    "Now that the numeric data is treated as numerics by Python, let's do some analysis..."
   ],
   "metadata": {}
  },
  {
   "cell_type": "markdown",
   "source": [
    "### Which company has the highest ATH(All Time High)?"
   ],
   "metadata": {}
  },
  {
   "cell_type": "code",
   "execution_count": 39,
   "source": [
    "# Find highest value in High Series\r\n",
    "higest_ath = sp500_df['High'].max()\r\n",
    "# Find index of highest value in High Series\r\n",
    "highest_ath_index = sp500_df['High'].idxmax()\r\n",
    "# Find stock ticker for highest value\r\n",
    "ticker_highest_ath = sp500_df.iloc[highest_ath_index]['Ticker']\r\n",
    "# Find date at which the stock was at ATH\r\n",
    "date_highest_ath = sp500_df.iloc[highest_ath_index]['Date']\r\n",
    "\r\n",
    "print(f'The company with the highest ATH in the dataset is {ticker_highest_ath} with a price of {higest_ath} on {date_highest_ath}.')"
   ],
   "outputs": [
    {
     "output_type": "stream",
     "name": "stdout",
     "text": [
      "The company with the highest ATH in the dataset is BRK-A with a price of 445000.0 on 07-05-2021.\n"
     ]
    }
   ],
   "metadata": {}
  },
  {
   "cell_type": "markdown",
   "source": [
    "### Which company has the lowest ATL(All Time Low)?"
   ],
   "metadata": {}
  },
  {
   "cell_type": "code",
   "execution_count": 42,
   "source": [
    "# Find lowest value in Low Series\r\n",
    "lowest_atl = sp500_df['Low'].min()\r\n",
    "# Find index of lowest value in Low Series\r\n",
    "lowest_atl_index = sp500_df['Low'].idxmin()\r\n",
    "# Find stock ticker for lowest value\r\n",
    "ticker_lowest_atl = sp500_df.iloc[lowest_atl_index]['Ticker']\r\n",
    "# Find date at which the stock was at ATL\r\n",
    "date_lowest_atl = sp500_df.iloc[lowest_atl_index]['Date']\r\n",
    "\r\n",
    "print(f'The company with the lowest ATL in the dataset is {ticker_lowest_atl} with a price of {lowest_atl} on {date_lowest_atl}.')"
   ],
   "outputs": [
    {
     "output_type": "stream",
     "name": "stdout",
     "text": [
      "The company with the lowest ATL in the dataset is NEOG with a price of 0.0 on 05-08-1993.\n"
     ]
    }
   ],
   "metadata": {}
  },
  {
   "cell_type": "markdown",
   "source": [
    "It seems a little fishy that any stock could have a price of $0.00. I am wondering if some of the trailing decimal places got truncated. Let's look deeper into the NEOG ticker to find out more. "
   ],
   "metadata": {}
  },
  {
   "cell_type": "code",
   "execution_count": 47,
   "source": [
    "sp500_df.iloc[lowest_atl_index]"
   ],
   "outputs": [
    {
     "output_type": "execute_result",
     "data": {
      "text/plain": [
       "Date              05-08-1993\n",
       "Low                      0.0\n",
       "Open                     0.0\n",
       "Volume               14200.0\n",
       "High                     0.0\n",
       "Close                    0.0\n",
       "Adjusted Close           0.0\n",
       "Ticker                  NEOG\n",
       "Name: 2130882, dtype: object"
      ]
     },
     "metadata": {},
     "execution_count": 47
    }
   ],
   "metadata": {}
  },
  {
   "cell_type": "code",
   "execution_count": 50,
   "source": [
    "neog_df = sp500_df[sp500_df['Ticker'] == 'NEOG']\r\n",
    "\r\n",
    "neog_df"
   ],
   "outputs": [
    {
     "output_type": "execute_result",
     "data": {
      "text/html": [
       "<div>\n",
       "<style scoped>\n",
       "    .dataframe tbody tr th:only-of-type {\n",
       "        vertical-align: middle;\n",
       "    }\n",
       "\n",
       "    .dataframe tbody tr th {\n",
       "        vertical-align: top;\n",
       "    }\n",
       "\n",
       "    .dataframe thead th {\n",
       "        text-align: right;\n",
       "    }\n",
       "</style>\n",
       "<table border=\"1\" class=\"dataframe\">\n",
       "  <thead>\n",
       "    <tr style=\"text-align: right;\">\n",
       "      <th></th>\n",
       "      <th>Date</th>\n",
       "      <th>Low</th>\n",
       "      <th>Open</th>\n",
       "      <th>Volume</th>\n",
       "      <th>High</th>\n",
       "      <th>Close</th>\n",
       "      <th>Adjusted Close</th>\n",
       "      <th>Ticker</th>\n",
       "    </tr>\n",
       "  </thead>\n",
       "  <tbody>\n",
       "    <tr>\n",
       "      <th>2129883</th>\n",
       "      <td>23-08-1989</td>\n",
       "      <td>0.444556</td>\n",
       "      <td>0.444556</td>\n",
       "      <td>966800.0</td>\n",
       "      <td>0.455669</td>\n",
       "      <td>0.444556</td>\n",
       "      <td>0.444556</td>\n",
       "      <td>NEOG</td>\n",
       "    </tr>\n",
       "    <tr>\n",
       "      <th>2129884</th>\n",
       "      <td>24-08-1989</td>\n",
       "      <td>0.500125</td>\n",
       "      <td>0.500125</td>\n",
       "      <td>707000.0</td>\n",
       "      <td>0.511239</td>\n",
       "      <td>0.500125</td>\n",
       "      <td>0.500125</td>\n",
       "      <td>NEOG</td>\n",
       "    </tr>\n",
       "    <tr>\n",
       "      <th>2129885</th>\n",
       "      <td>25-08-1989</td>\n",
       "      <td>0.466783</td>\n",
       "      <td>0.489011</td>\n",
       "      <td>768800.0</td>\n",
       "      <td>0.489011</td>\n",
       "      <td>0.466783</td>\n",
       "      <td>0.466783</td>\n",
       "      <td>NEOG</td>\n",
       "    </tr>\n",
       "    <tr>\n",
       "      <th>2129886</th>\n",
       "      <td>28-08-1989</td>\n",
       "      <td>0.466783</td>\n",
       "      <td>0.466783</td>\n",
       "      <td>359800.0</td>\n",
       "      <td>0.489011</td>\n",
       "      <td>0.466783</td>\n",
       "      <td>0.466783</td>\n",
       "      <td>NEOG</td>\n",
       "    </tr>\n",
       "    <tr>\n",
       "      <th>2129887</th>\n",
       "      <td>29-08-1989</td>\n",
       "      <td>0.455669</td>\n",
       "      <td>0.466783</td>\n",
       "      <td>230200.0</td>\n",
       "      <td>0.477897</td>\n",
       "      <td>0.455669</td>\n",
       "      <td>0.455669</td>\n",
       "      <td>NEOG</td>\n",
       "    </tr>\n",
       "    <tr>\n",
       "      <th>...</th>\n",
       "      <td>...</td>\n",
       "      <td>...</td>\n",
       "      <td>...</td>\n",
       "      <td>...</td>\n",
       "      <td>...</td>\n",
       "      <td>...</td>\n",
       "      <td>...</td>\n",
       "      <td>...</td>\n",
       "    </tr>\n",
       "    <tr>\n",
       "      <th>2137946</th>\n",
       "      <td>24-08-2021</td>\n",
       "      <td>43.509998</td>\n",
       "      <td>43.790001</td>\n",
       "      <td>22900000.0</td>\n",
       "      <td>43.959999</td>\n",
       "      <td>43.590000</td>\n",
       "      <td>43.590000</td>\n",
       "      <td>NEOG</td>\n",
       "    </tr>\n",
       "    <tr>\n",
       "      <th>2137947</th>\n",
       "      <td>25-08-2021</td>\n",
       "      <td>43.009998</td>\n",
       "      <td>43.490002</td>\n",
       "      <td>16610000.0</td>\n",
       "      <td>43.770000</td>\n",
       "      <td>43.119999</td>\n",
       "      <td>43.119999</td>\n",
       "      <td>NEOG</td>\n",
       "    </tr>\n",
       "    <tr>\n",
       "      <th>2137948</th>\n",
       "      <td>26-08-2021</td>\n",
       "      <td>42.590000</td>\n",
       "      <td>43.150002</td>\n",
       "      <td>16570000.0</td>\n",
       "      <td>43.150002</td>\n",
       "      <td>42.610001</td>\n",
       "      <td>42.610001</td>\n",
       "      <td>NEOG</td>\n",
       "    </tr>\n",
       "    <tr>\n",
       "      <th>2137949</th>\n",
       "      <td>27-08-2021</td>\n",
       "      <td>42.740002</td>\n",
       "      <td>42.740002</td>\n",
       "      <td>25900000.0</td>\n",
       "      <td>43.900002</td>\n",
       "      <td>43.750000</td>\n",
       "      <td>43.750000</td>\n",
       "      <td>NEOG</td>\n",
       "    </tr>\n",
       "    <tr>\n",
       "      <th>2137950</th>\n",
       "      <td>30-08-2021</td>\n",
       "      <td>43.650002</td>\n",
       "      <td>43.740002</td>\n",
       "      <td>50772.0</td>\n",
       "      <td>44.250000</td>\n",
       "      <td>43.830002</td>\n",
       "      <td>43.830002</td>\n",
       "      <td>NEOG</td>\n",
       "    </tr>\n",
       "  </tbody>\n",
       "</table>\n",
       "<p>8068 rows × 8 columns</p>\n",
       "</div>"
      ],
      "text/plain": [
       "               Date        Low       Open      Volume       High      Close  \\\n",
       "2129883  23-08-1989   0.444556   0.444556    966800.0   0.455669   0.444556   \n",
       "2129884  24-08-1989   0.500125   0.500125    707000.0   0.511239   0.500125   \n",
       "2129885  25-08-1989   0.466783   0.489011    768800.0   0.489011   0.466783   \n",
       "2129886  28-08-1989   0.466783   0.466783    359800.0   0.489011   0.466783   \n",
       "2129887  29-08-1989   0.455669   0.466783    230200.0   0.477897   0.455669   \n",
       "...             ...        ...        ...         ...        ...        ...   \n",
       "2137946  24-08-2021  43.509998  43.790001  22900000.0  43.959999  43.590000   \n",
       "2137947  25-08-2021  43.009998  43.490002  16610000.0  43.770000  43.119999   \n",
       "2137948  26-08-2021  42.590000  43.150002  16570000.0  43.150002  42.610001   \n",
       "2137949  27-08-2021  42.740002  42.740002  25900000.0  43.900002  43.750000   \n",
       "2137950  30-08-2021  43.650002  43.740002     50772.0  44.250000  43.830002   \n",
       "\n",
       "         Adjusted Close Ticker  \n",
       "2129883        0.444556   NEOG  \n",
       "2129884        0.500125   NEOG  \n",
       "2129885        0.466783   NEOG  \n",
       "2129886        0.466783   NEOG  \n",
       "2129887        0.455669   NEOG  \n",
       "...                 ...    ...  \n",
       "2137946       43.590000   NEOG  \n",
       "2137947       43.119999   NEOG  \n",
       "2137948       42.610001   NEOG  \n",
       "2137949       43.750000   NEOG  \n",
       "2137950       43.830002   NEOG  \n",
       "\n",
       "[8068 rows x 8 columns]"
      ]
     },
     "metadata": {},
     "execution_count": 50
    }
   ],
   "metadata": {}
  },
  {
   "cell_type": "code",
   "execution_count": 51,
   "source": [
    "neog_df[neog_df['Date'] == '05-08-1993']"
   ],
   "outputs": [
    {
     "output_type": "execute_result",
     "data": {
      "text/html": [
       "<div>\n",
       "<style scoped>\n",
       "    .dataframe tbody tr th:only-of-type {\n",
       "        vertical-align: middle;\n",
       "    }\n",
       "\n",
       "    .dataframe tbody tr th {\n",
       "        vertical-align: top;\n",
       "    }\n",
       "\n",
       "    .dataframe thead th {\n",
       "        text-align: right;\n",
       "    }\n",
       "</style>\n",
       "<table border=\"1\" class=\"dataframe\">\n",
       "  <thead>\n",
       "    <tr style=\"text-align: right;\">\n",
       "      <th></th>\n",
       "      <th>Date</th>\n",
       "      <th>Low</th>\n",
       "      <th>Open</th>\n",
       "      <th>Volume</th>\n",
       "      <th>High</th>\n",
       "      <th>Close</th>\n",
       "      <th>Adjusted Close</th>\n",
       "      <th>Ticker</th>\n",
       "    </tr>\n",
       "  </thead>\n",
       "  <tbody>\n",
       "    <tr>\n",
       "      <th>2130882</th>\n",
       "      <td>05-08-1993</td>\n",
       "      <td>0.0</td>\n",
       "      <td>0.0</td>\n",
       "      <td>14200.0</td>\n",
       "      <td>0.0</td>\n",
       "      <td>0.0</td>\n",
       "      <td>0.0</td>\n",
       "      <td>NEOG</td>\n",
       "    </tr>\n",
       "  </tbody>\n",
       "</table>\n",
       "</div>"
      ],
      "text/plain": [
       "               Date  Low  Open   Volume  High  Close  Adjusted Close Ticker\n",
       "2130882  05-08-1993  0.0   0.0  14200.0   0.0    0.0             0.0   NEOG"
      ]
     },
     "metadata": {},
     "execution_count": 51
    }
   ],
   "metadata": {}
  },
  {
   "cell_type": "markdown",
   "source": [
    "What about the day before or the day after?"
   ],
   "metadata": {}
  },
  {
   "cell_type": "code",
   "execution_count": 52,
   "source": [
    "neog_df[neog_df['Date'] == '04-08-1993']"
   ],
   "outputs": [
    {
     "output_type": "execute_result",
     "data": {
      "text/html": [
       "<div>\n",
       "<style scoped>\n",
       "    .dataframe tbody tr th:only-of-type {\n",
       "        vertical-align: middle;\n",
       "    }\n",
       "\n",
       "    .dataframe tbody tr th {\n",
       "        vertical-align: top;\n",
       "    }\n",
       "\n",
       "    .dataframe thead th {\n",
       "        text-align: right;\n",
       "    }\n",
       "</style>\n",
       "<table border=\"1\" class=\"dataframe\">\n",
       "  <thead>\n",
       "    <tr style=\"text-align: right;\">\n",
       "      <th></th>\n",
       "      <th>Date</th>\n",
       "      <th>Low</th>\n",
       "      <th>Open</th>\n",
       "      <th>Volume</th>\n",
       "      <th>High</th>\n",
       "      <th>Close</th>\n",
       "      <th>Adjusted Close</th>\n",
       "      <th>Ticker</th>\n",
       "    </tr>\n",
       "  </thead>\n",
       "  <tbody>\n",
       "    <tr>\n",
       "      <th>2130881</th>\n",
       "      <td>04-08-1993</td>\n",
       "      <td>0.216721</td>\n",
       "      <td>0.222278</td>\n",
       "      <td>241000.0</td>\n",
       "      <td>0.266733</td>\n",
       "      <td>0.266733</td>\n",
       "      <td>0.266733</td>\n",
       "      <td>NEOG</td>\n",
       "    </tr>\n",
       "  </tbody>\n",
       "</table>\n",
       "</div>"
      ],
      "text/plain": [
       "               Date       Low      Open    Volume      High     Close  \\\n",
       "2130881  04-08-1993  0.216721  0.222278  241000.0  0.266733  0.266733   \n",
       "\n",
       "         Adjusted Close Ticker  \n",
       "2130881        0.266733   NEOG  "
      ]
     },
     "metadata": {},
     "execution_count": 52
    }
   ],
   "metadata": {}
  },
  {
   "cell_type": "code",
   "execution_count": 53,
   "source": [
    "neog_df[neog_df['Date'] == '06-08-1993']"
   ],
   "outputs": [
    {
     "output_type": "execute_result",
     "data": {
      "text/html": [
       "<div>\n",
       "<style scoped>\n",
       "    .dataframe tbody tr th:only-of-type {\n",
       "        vertical-align: middle;\n",
       "    }\n",
       "\n",
       "    .dataframe tbody tr th {\n",
       "        vertical-align: top;\n",
       "    }\n",
       "\n",
       "    .dataframe thead th {\n",
       "        text-align: right;\n",
       "    }\n",
       "</style>\n",
       "<table border=\"1\" class=\"dataframe\">\n",
       "  <thead>\n",
       "    <tr style=\"text-align: right;\">\n",
       "      <th></th>\n",
       "      <th>Date</th>\n",
       "      <th>Low</th>\n",
       "      <th>Open</th>\n",
       "      <th>Volume</th>\n",
       "      <th>High</th>\n",
       "      <th>Close</th>\n",
       "      <th>Adjusted Close</th>\n",
       "      <th>Ticker</th>\n",
       "    </tr>\n",
       "  </thead>\n",
       "  <tbody>\n",
       "    <tr>\n",
       "      <th>2130883</th>\n",
       "      <td>06-08-1993</td>\n",
       "      <td>0.216721</td>\n",
       "      <td>0.244506</td>\n",
       "      <td>218200.0</td>\n",
       "      <td>0.244506</td>\n",
       "      <td>0.222278</td>\n",
       "      <td>0.222278</td>\n",
       "      <td>NEOG</td>\n",
       "    </tr>\n",
       "  </tbody>\n",
       "</table>\n",
       "</div>"
      ],
      "text/plain": [
       "               Date       Low      Open    Volume      High     Close  \\\n",
       "2130883  06-08-1993  0.216721  0.244506  218200.0  0.244506  0.222278   \n",
       "\n",
       "         Adjusted Close Ticker  \n",
       "2130883        0.222278   NEOG  "
      ]
     },
     "metadata": {},
     "execution_count": 53
    }
   ],
   "metadata": {}
  },
  {
   "cell_type": "markdown",
   "source": [
    "The days before and after the day of the ATL both have values for the Low and High Series', and both days have extended decimal values where there does not seem to be any values at all for 05-08-1993 for the prices. I am unsure as to what is going on here, but do not want to spend too much time on this specific case. Having said that, I do want to know if there are other 0 values in the dataset so I can look into why."
   ],
   "metadata": {}
  },
  {
   "cell_type": "code",
   "execution_count": 54,
   "source": [
    "sp500_df[sp500_df['High'] == 0]"
   ],
   "outputs": [
    {
     "output_type": "execute_result",
     "data": {
      "text/html": [
       "<div>\n",
       "<style scoped>\n",
       "    .dataframe tbody tr th:only-of-type {\n",
       "        vertical-align: middle;\n",
       "    }\n",
       "\n",
       "    .dataframe tbody tr th {\n",
       "        vertical-align: top;\n",
       "    }\n",
       "\n",
       "    .dataframe thead th {\n",
       "        text-align: right;\n",
       "    }\n",
       "</style>\n",
       "<table border=\"1\" class=\"dataframe\">\n",
       "  <thead>\n",
       "    <tr style=\"text-align: right;\">\n",
       "      <th></th>\n",
       "      <th>Date</th>\n",
       "      <th>Low</th>\n",
       "      <th>Open</th>\n",
       "      <th>Volume</th>\n",
       "      <th>High</th>\n",
       "      <th>Close</th>\n",
       "      <th>Adjusted Close</th>\n",
       "      <th>Ticker</th>\n",
       "    </tr>\n",
       "  </thead>\n",
       "  <tbody>\n",
       "    <tr>\n",
       "      <th>2130882</th>\n",
       "      <td>05-08-1993</td>\n",
       "      <td>0.0</td>\n",
       "      <td>0.0</td>\n",
       "      <td>14200.0</td>\n",
       "      <td>0.0</td>\n",
       "      <td>0.0</td>\n",
       "      <td>0.0</td>\n",
       "      <td>NEOG</td>\n",
       "    </tr>\n",
       "  </tbody>\n",
       "</table>\n",
       "</div>"
      ],
      "text/plain": [
       "               Date  Low  Open   Volume  High  Close  Adjusted Close Ticker\n",
       "2130882  05-08-1993  0.0   0.0  14200.0   0.0    0.0             0.0   NEOG"
      ]
     },
     "metadata": {},
     "execution_count": 54
    }
   ],
   "metadata": {}
  },
  {
   "cell_type": "code",
   "execution_count": 55,
   "source": [
    "sp500_df[sp500_df['Low'] == 0]"
   ],
   "outputs": [
    {
     "output_type": "execute_result",
     "data": {
      "text/html": [
       "<div>\n",
       "<style scoped>\n",
       "    .dataframe tbody tr th:only-of-type {\n",
       "        vertical-align: middle;\n",
       "    }\n",
       "\n",
       "    .dataframe tbody tr th {\n",
       "        vertical-align: top;\n",
       "    }\n",
       "\n",
       "    .dataframe thead th {\n",
       "        text-align: right;\n",
       "    }\n",
       "</style>\n",
       "<table border=\"1\" class=\"dataframe\">\n",
       "  <thead>\n",
       "    <tr style=\"text-align: right;\">\n",
       "      <th></th>\n",
       "      <th>Date</th>\n",
       "      <th>Low</th>\n",
       "      <th>Open</th>\n",
       "      <th>Volume</th>\n",
       "      <th>High</th>\n",
       "      <th>Close</th>\n",
       "      <th>Adjusted Close</th>\n",
       "      <th>Ticker</th>\n",
       "    </tr>\n",
       "  </thead>\n",
       "  <tbody>\n",
       "    <tr>\n",
       "      <th>2130882</th>\n",
       "      <td>05-08-1993</td>\n",
       "      <td>0.0</td>\n",
       "      <td>0.0</td>\n",
       "      <td>14200.0</td>\n",
       "      <td>0.0</td>\n",
       "      <td>0.0</td>\n",
       "      <td>0.0</td>\n",
       "      <td>NEOG</td>\n",
       "    </tr>\n",
       "  </tbody>\n",
       "</table>\n",
       "</div>"
      ],
      "text/plain": [
       "               Date  Low  Open   Volume  High  Close  Adjusted Close Ticker\n",
       "2130882  05-08-1993  0.0   0.0  14200.0   0.0    0.0             0.0   NEOG"
      ]
     },
     "metadata": {},
     "execution_count": 55
    }
   ],
   "metadata": {}
  },
  {
   "cell_type": "markdown",
   "source": [
    "It looks like this row is the only one with 0 values for the prices. Strange, but relatively not important. Let's move on. "
   ],
   "metadata": {}
  }
 ],
 "metadata": {
  "orig_nbformat": 4,
  "language_info": {
   "name": "python",
   "version": "3.8.5",
   "mimetype": "text/x-python",
   "codemirror_mode": {
    "name": "ipython",
    "version": 3
   },
   "pygments_lexer": "ipython3",
   "nbconvert_exporter": "python",
   "file_extension": ".py"
  },
  "kernelspec": {
   "name": "python3",
   "display_name": "Python 3.8.5 64-bit"
  },
  "interpreter": {
   "hash": "590bb9acbdd23f43ccecca7f96a63330f77153c349df4719fc373788bfd8ab7b"
  }
 },
 "nbformat": 4,
 "nbformat_minor": 2
}