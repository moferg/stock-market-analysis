{
 "cells": [
  {
   "cell_type": "markdown",
   "source": [
    "# Stock Market Analysis\r\n",
    "## Marshall Ferguson 9/2021"
   ],
   "metadata": {}
  },
  {
   "cell_type": "code",
   "execution_count": 1,
   "source": [
    "# Imports\r\n",
    "\r\n",
    "import os\r\n",
    "import csv\r\n",
    "import numpy as np\r\n",
    "import pandas as pd"
   ],
   "outputs": [],
   "metadata": {}
  },
  {
   "cell_type": "code",
   "execution_count": 2,
   "source": [
    "# Read in data\r\n",
    "\r\n",
    "df = pd.read_csv('data/sp500/AAPL.csv')\r\n",
    "\r\n",
    "df.head()"
   ],
   "outputs": [
    {
     "output_type": "execute_result",
     "data": {
      "text/html": [
       "<div>\n",
       "<style scoped>\n",
       "    .dataframe tbody tr th:only-of-type {\n",
       "        vertical-align: middle;\n",
       "    }\n",
       "\n",
       "    .dataframe tbody tr th {\n",
       "        vertical-align: top;\n",
       "    }\n",
       "\n",
       "    .dataframe thead th {\n",
       "        text-align: right;\n",
       "    }\n",
       "</style>\n",
       "<table border=\"1\" class=\"dataframe\">\n",
       "  <thead>\n",
       "    <tr style=\"text-align: right;\">\n",
       "      <th></th>\n",
       "      <th>Date</th>\n",
       "      <th>Low</th>\n",
       "      <th>Open</th>\n",
       "      <th>Volume</th>\n",
       "      <th>High</th>\n",
       "      <th>Close</th>\n",
       "      <th>Adjusted Close</th>\n",
       "    </tr>\n",
       "  </thead>\n",
       "  <tbody>\n",
       "    <tr>\n",
       "      <th>0</th>\n",
       "      <td>12-12-1980</td>\n",
       "      <td>0.128348</td>\n",
       "      <td>0.128348</td>\n",
       "      <td>469033600</td>\n",
       "      <td>0.128906</td>\n",
       "      <td>0.128348</td>\n",
       "      <td>0.100600</td>\n",
       "    </tr>\n",
       "    <tr>\n",
       "      <th>1</th>\n",
       "      <td>15-12-1980</td>\n",
       "      <td>0.121652</td>\n",
       "      <td>0.122210</td>\n",
       "      <td>175884800</td>\n",
       "      <td>0.122210</td>\n",
       "      <td>0.121652</td>\n",
       "      <td>0.095352</td>\n",
       "    </tr>\n",
       "    <tr>\n",
       "      <th>2</th>\n",
       "      <td>16-12-1980</td>\n",
       "      <td>0.112723</td>\n",
       "      <td>0.113281</td>\n",
       "      <td>105728000</td>\n",
       "      <td>0.113281</td>\n",
       "      <td>0.112723</td>\n",
       "      <td>0.088353</td>\n",
       "    </tr>\n",
       "    <tr>\n",
       "      <th>3</th>\n",
       "      <td>17-12-1980</td>\n",
       "      <td>0.115513</td>\n",
       "      <td>0.115513</td>\n",
       "      <td>86441600</td>\n",
       "      <td>0.116071</td>\n",
       "      <td>0.115513</td>\n",
       "      <td>0.090540</td>\n",
       "    </tr>\n",
       "    <tr>\n",
       "      <th>4</th>\n",
       "      <td>18-12-1980</td>\n",
       "      <td>0.118862</td>\n",
       "      <td>0.118862</td>\n",
       "      <td>73449600</td>\n",
       "      <td>0.119420</td>\n",
       "      <td>0.118862</td>\n",
       "      <td>0.093165</td>\n",
       "    </tr>\n",
       "  </tbody>\n",
       "</table>\n",
       "</div>"
      ],
      "text/plain": [
       "         Date       Low      Open     Volume      High     Close  \\\n",
       "0  12-12-1980  0.128348  0.128348  469033600  0.128906  0.128348   \n",
       "1  15-12-1980  0.121652  0.122210  175884800  0.122210  0.121652   \n",
       "2  16-12-1980  0.112723  0.113281  105728000  0.113281  0.112723   \n",
       "3  17-12-1980  0.115513  0.115513   86441600  0.116071  0.115513   \n",
       "4  18-12-1980  0.118862  0.118862   73449600  0.119420  0.118862   \n",
       "\n",
       "   Adjusted Close  \n",
       "0        0.100600  \n",
       "1        0.095352  \n",
       "2        0.088353  \n",
       "3        0.090540  \n",
       "4        0.093165  "
      ]
     },
     "metadata": {},
     "execution_count": 2
    }
   ],
   "metadata": {}
  },
  {
   "cell_type": "markdown",
   "source": [
    "As an aside, the dates in the Date Series are in DD-MM-YYY format"
   ],
   "metadata": {}
  },
  {
   "cell_type": "markdown",
   "source": [
    "This data is set up differently than I would like. It is organized into folders based on whether the company is part of NASDAQ, NYSE, or S&P500. Within those folders are seperate CSV files for each company. I would like to combine these seperate files into one master dataset. My thought process is that I can turn each CSV into a dict, and then turn it into one giant df from combining each dict."
   ],
   "metadata": {}
  },
  {
   "cell_type": "code",
   "execution_count": 3,
   "source": [
    "# Trial run converting AAPL csv to a list of dicts\r\n",
    "\r\n",
    "AAPL = []\r\n",
    "\r\n",
    "with open('data/sp500/AAPL.csv', newline='') as csvfile:\r\n",
    "    reader = csv.DictReader(csvfile)\r\n",
    "    for row in reader:\r\n",
    "        row['Ticker'] = 'AAPL'\r\n",
    "        AAPL.append(row)\r\n",
    "\r\n",
    "AAPL[0]"
   ],
   "outputs": [
    {
     "output_type": "execute_result",
     "data": {
      "text/plain": [
       "{'Date': '12-12-1980',\n",
       " 'Low': '0.1283479928970337',\n",
       " 'Open': '0.1283479928970337',\n",
       " 'Volume': '469033600',\n",
       " 'High': '0.1289059966802597',\n",
       " 'Close': '0.1283479928970337',\n",
       " 'Adjusted Close': '0.10060006380081177',\n",
       " 'Ticker': 'AAPL'}"
      ]
     },
     "metadata": {},
     "execution_count": 3
    }
   ],
   "metadata": {}
  },
  {
   "cell_type": "code",
   "execution_count": 4,
   "source": [
    "# Convert all rows in all files in sp500 directory to dicts\r\n",
    "# and append said dicts to one list, after adding Ticker to dict\r\n",
    "\r\n",
    "sp500 = []\r\n",
    "\r\n",
    "for file in os.listdir('data/sp500'):\r\n",
    "    with open(f'data/sp500/{file}', newline='') as csvfile:\r\n",
    "        reader = csv.DictReader(csvfile)\r\n",
    "        for row in reader:\r\n",
    "            file_name = os.path.splitext(file)\r\n",
    "            row['Ticker'] = file_name[0]\r\n",
    "            sp500.append(row)"
   ],
   "outputs": [],
   "metadata": {}
  },
  {
   "cell_type": "code",
   "execution_count": 5,
   "source": [
    "sp500[0]"
   ],
   "outputs": [
    {
     "output_type": "execute_result",
     "data": {
      "text/plain": [
       "{'Date': '18-11-1999',\n",
       " 'Low': '28.612302780151367',\n",
       " 'Open': '32.54649353027344',\n",
       " 'Volume': '62546380',\n",
       " 'High': '35.765380859375',\n",
       " 'Close': '31.473533630371094',\n",
       " 'Adjusted Close': '27.135984420776367',\n",
       " 'Ticker': 'A'}"
      ]
     },
     "metadata": {},
     "execution_count": 5
    }
   ],
   "metadata": {}
  },
  {
   "cell_type": "code",
   "execution_count": 6,
   "source": [
    "sp500[-1]"
   ],
   "outputs": [
    {
     "output_type": "execute_result",
     "data": {
      "text/plain": [
       "{'Date': '30-08-2021',\n",
       " 'Low': '204.0050048828125',\n",
       " 'Open': '203.82000732421875',\n",
       " 'Volume': '288506.0',\n",
       " 'High': '206.97999572753906',\n",
       " 'Close': '205.75',\n",
       " 'Adjusted Close': '205.75',\n",
       " 'Ticker': 'ZTS'}"
      ]
     },
     "metadata": {},
     "execution_count": 6
    }
   ],
   "metadata": {}
  },
  {
   "cell_type": "code",
   "execution_count": 7,
   "source": [
    "# Convert list of sp500 dicts to df\r\n",
    "\r\n",
    "sp500_df = pd.DataFrame(sp500)"
   ],
   "outputs": [],
   "metadata": {}
  },
  {
   "cell_type": "code",
   "execution_count": 8,
   "source": [
    "sp500_df.head()"
   ],
   "outputs": [
    {
     "output_type": "execute_result",
     "data": {
      "text/html": [
       "<div>\n",
       "<style scoped>\n",
       "    .dataframe tbody tr th:only-of-type {\n",
       "        vertical-align: middle;\n",
       "    }\n",
       "\n",
       "    .dataframe tbody tr th {\n",
       "        vertical-align: top;\n",
       "    }\n",
       "\n",
       "    .dataframe thead th {\n",
       "        text-align: right;\n",
       "    }\n",
       "</style>\n",
       "<table border=\"1\" class=\"dataframe\">\n",
       "  <thead>\n",
       "    <tr style=\"text-align: right;\">\n",
       "      <th></th>\n",
       "      <th>Date</th>\n",
       "      <th>Low</th>\n",
       "      <th>Open</th>\n",
       "      <th>Volume</th>\n",
       "      <th>High</th>\n",
       "      <th>Close</th>\n",
       "      <th>Adjusted Close</th>\n",
       "      <th>Ticker</th>\n",
       "    </tr>\n",
       "  </thead>\n",
       "  <tbody>\n",
       "    <tr>\n",
       "      <th>0</th>\n",
       "      <td>18-11-1999</td>\n",
       "      <td>28.612302780151367</td>\n",
       "      <td>32.54649353027344</td>\n",
       "      <td>62546380</td>\n",
       "      <td>35.765380859375</td>\n",
       "      <td>31.473533630371094</td>\n",
       "      <td>27.135984420776367</td>\n",
       "      <td>A</td>\n",
       "    </tr>\n",
       "    <tr>\n",
       "      <th>1</th>\n",
       "      <td>19-11-1999</td>\n",
       "      <td>28.47818374633789</td>\n",
       "      <td>30.713518142700195</td>\n",
       "      <td>15234146</td>\n",
       "      <td>30.75822639465332</td>\n",
       "      <td>28.880544662475586</td>\n",
       "      <td>24.900341033935547</td>\n",
       "      <td>A</td>\n",
       "    </tr>\n",
       "    <tr>\n",
       "      <th>2</th>\n",
       "      <td>22-11-1999</td>\n",
       "      <td>28.65700912475586</td>\n",
       "      <td>29.551143646240234</td>\n",
       "      <td>6577870</td>\n",
       "      <td>31.473533630371094</td>\n",
       "      <td>31.473533630371094</td>\n",
       "      <td>27.135984420776367</td>\n",
       "      <td>A</td>\n",
       "    </tr>\n",
       "    <tr>\n",
       "      <th>3</th>\n",
       "      <td>23-11-1999</td>\n",
       "      <td>28.612302780151367</td>\n",
       "      <td>30.400571823120117</td>\n",
       "      <td>5975611</td>\n",
       "      <td>31.205293655395508</td>\n",
       "      <td>28.612302780151367</td>\n",
       "      <td>24.669065475463867</td>\n",
       "      <td>A</td>\n",
       "    </tr>\n",
       "    <tr>\n",
       "      <th>4</th>\n",
       "      <td>24-11-1999</td>\n",
       "      <td>28.612302780151367</td>\n",
       "      <td>28.701717376708984</td>\n",
       "      <td>4843231</td>\n",
       "      <td>29.998212814331055</td>\n",
       "      <td>29.372318267822266</td>\n",
       "      <td>25.324344635009766</td>\n",
       "      <td>A</td>\n",
       "    </tr>\n",
       "  </tbody>\n",
       "</table>\n",
       "</div>"
      ],
      "text/plain": [
       "         Date                 Low                Open    Volume  \\\n",
       "0  18-11-1999  28.612302780151367   32.54649353027344  62546380   \n",
       "1  19-11-1999   28.47818374633789  30.713518142700195  15234146   \n",
       "2  22-11-1999   28.65700912475586  29.551143646240234   6577870   \n",
       "3  23-11-1999  28.612302780151367  30.400571823120117   5975611   \n",
       "4  24-11-1999  28.612302780151367  28.701717376708984   4843231   \n",
       "\n",
       "                 High               Close      Adjusted Close Ticker  \n",
       "0     35.765380859375  31.473533630371094  27.135984420776367      A  \n",
       "1   30.75822639465332  28.880544662475586  24.900341033935547      A  \n",
       "2  31.473533630371094  31.473533630371094  27.135984420776367      A  \n",
       "3  31.205293655395508  28.612302780151367  24.669065475463867      A  \n",
       "4  29.998212814331055  29.372318267822266  25.324344635009766      A  "
      ]
     },
     "metadata": {},
     "execution_count": 8
    }
   ],
   "metadata": {}
  },
  {
   "cell_type": "code",
   "execution_count": 9,
   "source": [
    "sp500_df.tail()"
   ],
   "outputs": [
    {
     "output_type": "execute_result",
     "data": {
      "text/html": [
       "<div>\n",
       "<style scoped>\n",
       "    .dataframe tbody tr th:only-of-type {\n",
       "        vertical-align: middle;\n",
       "    }\n",
       "\n",
       "    .dataframe tbody tr th {\n",
       "        vertical-align: top;\n",
       "    }\n",
       "\n",
       "    .dataframe thead th {\n",
       "        text-align: right;\n",
       "    }\n",
       "</style>\n",
       "<table border=\"1\" class=\"dataframe\">\n",
       "  <thead>\n",
       "    <tr style=\"text-align: right;\">\n",
       "      <th></th>\n",
       "      <th>Date</th>\n",
       "      <th>Low</th>\n",
       "      <th>Open</th>\n",
       "      <th>Volume</th>\n",
       "      <th>High</th>\n",
       "      <th>Close</th>\n",
       "      <th>Adjusted Close</th>\n",
       "      <th>Ticker</th>\n",
       "    </tr>\n",
       "  </thead>\n",
       "  <tbody>\n",
       "    <tr>\n",
       "      <th>3221722</th>\n",
       "      <td>24-08-2021</td>\n",
       "      <td>204.49000549316406</td>\n",
       "      <td>206.08999633789062</td>\n",
       "      <td>97870000.0</td>\n",
       "      <td>206.9600067138672</td>\n",
       "      <td>204.99000549316406</td>\n",
       "      <td>204.99000549316406</td>\n",
       "      <td>ZTS</td>\n",
       "    </tr>\n",
       "    <tr>\n",
       "      <th>3221723</th>\n",
       "      <td>25-08-2021</td>\n",
       "      <td>202.97999572753906</td>\n",
       "      <td>204.38999938964844</td>\n",
       "      <td>78070000.0</td>\n",
       "      <td>205.0800018310547</td>\n",
       "      <td>204.42999267578125</td>\n",
       "      <td>204.42999267578125</td>\n",
       "      <td>ZTS</td>\n",
       "    </tr>\n",
       "    <tr>\n",
       "      <th>3221724</th>\n",
       "      <td>26-08-2021</td>\n",
       "      <td>203.36000061035156</td>\n",
       "      <td>204.8000030517578</td>\n",
       "      <td>95760000.0</td>\n",
       "      <td>205.49000549316406</td>\n",
       "      <td>204.02000427246094</td>\n",
       "      <td>204.02000427246094</td>\n",
       "      <td>ZTS</td>\n",
       "    </tr>\n",
       "    <tr>\n",
       "      <th>3221725</th>\n",
       "      <td>27-08-2021</td>\n",
       "      <td>203.22999572753906</td>\n",
       "      <td>204.67999267578125</td>\n",
       "      <td>85530000.0</td>\n",
       "      <td>206.19000244140625</td>\n",
       "      <td>203.82000732421875</td>\n",
       "      <td>203.82000732421875</td>\n",
       "      <td>ZTS</td>\n",
       "    </tr>\n",
       "    <tr>\n",
       "      <th>3221726</th>\n",
       "      <td>30-08-2021</td>\n",
       "      <td>204.0050048828125</td>\n",
       "      <td>203.82000732421875</td>\n",
       "      <td>288506.0</td>\n",
       "      <td>206.97999572753906</td>\n",
       "      <td>205.75</td>\n",
       "      <td>205.75</td>\n",
       "      <td>ZTS</td>\n",
       "    </tr>\n",
       "  </tbody>\n",
       "</table>\n",
       "</div>"
      ],
      "text/plain": [
       "               Date                 Low                Open      Volume  \\\n",
       "3221722  24-08-2021  204.49000549316406  206.08999633789062  97870000.0   \n",
       "3221723  25-08-2021  202.97999572753906  204.38999938964844  78070000.0   \n",
       "3221724  26-08-2021  203.36000061035156   204.8000030517578  95760000.0   \n",
       "3221725  27-08-2021  203.22999572753906  204.67999267578125  85530000.0   \n",
       "3221726  30-08-2021   204.0050048828125  203.82000732421875    288506.0   \n",
       "\n",
       "                       High               Close      Adjusted Close Ticker  \n",
       "3221722   206.9600067138672  204.99000549316406  204.99000549316406    ZTS  \n",
       "3221723   205.0800018310547  204.42999267578125  204.42999267578125    ZTS  \n",
       "3221724  205.49000549316406  204.02000427246094  204.02000427246094    ZTS  \n",
       "3221725  206.19000244140625  203.82000732421875  203.82000732421875    ZTS  \n",
       "3221726  206.97999572753906              205.75              205.75    ZTS  "
      ]
     },
     "metadata": {},
     "execution_count": 9
    }
   ],
   "metadata": {}
  },
  {
   "cell_type": "markdown",
   "source": [
    "Now that we have one dataset for all the S&P500 data, let's do some data cleaning..."
   ],
   "metadata": {}
  },
  {
   "cell_type": "code",
   "execution_count": 10,
   "source": [
    "# What types of data are in the dataframe?\r\n",
    "\r\n",
    "sp500_df.dtypes"
   ],
   "outputs": [
    {
     "output_type": "execute_result",
     "data": {
      "text/plain": [
       "Date              object\n",
       "Low               object\n",
       "Open              object\n",
       "Volume            object\n",
       "High              object\n",
       "Close             object\n",
       "Adjusted Close    object\n",
       "Ticker            object\n",
       "dtype: object"
      ]
     },
     "metadata": {},
     "execution_count": 10
    }
   ],
   "metadata": {}
  },
  {
   "cell_type": "markdown",
   "source": [
    "We need to convert the Series' that represent stock prices into numeric values"
   ],
   "metadata": {}
  },
  {
   "cell_type": "code",
   "execution_count": 11,
   "source": [
    "numb_convert = ['Low', 'Open', 'Volume', 'High', 'Close', 'Adjusted Close']\r\n",
    "\r\n",
    "for series in numb_convert:\r\n",
    "    sp500_df[series] = pd.to_numeric(sp500_df[series])"
   ],
   "outputs": [],
   "metadata": {}
  },
  {
   "cell_type": "code",
   "execution_count": 12,
   "source": [
    "sp500_df.dtypes"
   ],
   "outputs": [
    {
     "output_type": "execute_result",
     "data": {
      "text/plain": [
       "Date               object\n",
       "Low               float64\n",
       "Open              float64\n",
       "Volume            float64\n",
       "High              float64\n",
       "Close             float64\n",
       "Adjusted Close    float64\n",
       "Ticker             object\n",
       "dtype: object"
      ]
     },
     "metadata": {},
     "execution_count": 12
    }
   ],
   "metadata": {}
  },
  {
   "cell_type": "markdown",
   "source": [
    "Now that the numeric data is treated as numerics by Python, let's do some analysis..."
   ],
   "metadata": {}
  },
  {
   "cell_type": "markdown",
   "source": [
    "### Which company has the highest ATH(All Time High)?"
   ],
   "metadata": {}
  },
  {
   "cell_type": "code",
   "execution_count": 39,
   "source": [
    "# Find highest value in High Series\r\n",
    "higest_ath = sp500_df['High'].max()\r\n",
    "# Find index of highest value in High Series\r\n",
    "highest_ath_index = sp500_df['High'].idxmax()\r\n",
    "# Find stock ticker for highest value\r\n",
    "ticker_highest_ath = sp500_df.iloc[highest_ath_index]['Ticker']\r\n",
    "# Find date at which the stock was at ATH\r\n",
    "date_highest_ath = sp500_df.iloc[highest_ath_index]['Date']\r\n",
    "\r\n",
    "print(f'The company with the highest ATH in the dataset is {ticker_highest_ath} with a price of {higest_ath} on {date_highest_ath}.')"
   ],
   "outputs": [
    {
     "output_type": "stream",
     "name": "stdout",
     "text": [
      "The company with the highest ATH in the dataset is BRK-A with a price of 445000.0 on 07-05-2021.\n"
     ]
    }
   ],
   "metadata": {}
  },
  {
   "cell_type": "markdown",
   "source": [
    "### Which company has the lowest ATL(All Time Low)?"
   ],
   "metadata": {}
  },
  {
   "cell_type": "code",
   "execution_count": 42,
   "source": [
    "# Find lowest value in Low Series\r\n",
    "lowest_atl = sp500_df['Low'].min()\r\n",
    "# Find index of lowest value in Low Series\r\n",
    "lowest_atl_index = sp500_df['Low'].idxmin()\r\n",
    "# Find stock ticker for lowest value\r\n",
    "ticker_lowest_atl = sp500_df.iloc[lowest_atl_index]['Ticker']\r\n",
    "# Find date at which the stock was at ATL\r\n",
    "date_lowest_atl = sp500_df.iloc[lowest_atl_index]['Date']\r\n",
    "\r\n",
    "print(f'The company with the lowest ATL in the dataset is {ticker_lowest_atl} with a price of {lowest_atl} on {date_lowest_atl}.')"
   ],
   "outputs": [
    {
     "output_type": "stream",
     "name": "stdout",
     "text": [
      "The company with the lowest ATL in the dataset is NEOG with a price of 0.0 on 05-08-1993.\n"
     ]
    }
   ],
   "metadata": {}
  }
 ],
 "metadata": {
  "orig_nbformat": 4,
  "language_info": {
   "name": "python",
   "version": "3.8.5",
   "mimetype": "text/x-python",
   "codemirror_mode": {
    "name": "ipython",
    "version": 3
   },
   "pygments_lexer": "ipython3",
   "nbconvert_exporter": "python",
   "file_extension": ".py"
  },
  "kernelspec": {
   "name": "python3",
   "display_name": "Python 3.8.5 64-bit"
  },
  "interpreter": {
   "hash": "590bb9acbdd23f43ccecca7f96a63330f77153c349df4719fc373788bfd8ab7b"
  }
 },
 "nbformat": 4,
 "nbformat_minor": 2
}